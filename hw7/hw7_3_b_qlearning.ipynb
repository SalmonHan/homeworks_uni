{
 "cells": [
  {
   "cell_type": "code",
   "execution_count": 6,
   "metadata": {
    "executionInfo": {
     "elapsed": 324,
     "status": "ok",
     "timestamp": 1733373364600,
     "user": {
      "displayName": "이정우",
      "userId": "08387673163810862239"
     },
     "user_tz": -540
    },
    "id": "phSlhDj3R8JY"
   },
   "outputs": [],
   "source": [
    "import random\n",
    "import numpy as np\n",
    "import matplotlib.pyplot as plt"
   ]
  },
  {
   "cell_type": "code",
   "execution_count": 7,
   "metadata": {
    "executionInfo": {
     "elapsed": 4,
     "status": "ok",
     "timestamp": 1733373364936,
     "user": {
      "displayName": "이정우",
      "userId": "08387673163810862239"
     },
     "user_tz": -540
    },
    "id": "1805cmG5SWXl"
   },
   "outputs": [],
   "source": [
    "class GridWorld():\n",
    "    def __init__(self):\n",
    "        self.x = 3\n",
    "        self.y = 0\n",
    "\n",
    "    def step(self, a):\n",
    "        # 상하좌우와 대각선 이동\n",
    "        if a == 0:\n",
    "            self.move_right()\n",
    "        elif a == 1:\n",
    "            self.move_left()\n",
    "        elif a == 2:\n",
    "            self.move_up()\n",
    "        elif a == 3:\n",
    "            self.move_down()\n",
    "        elif a == 4:\n",
    "            self.move_up_right()\n",
    "        elif a == 5:\n",
    "            self.move_up_left()\n",
    "        elif a == 6:\n",
    "            self.move_down_right()\n",
    "        elif a == 7:\n",
    "            self.move_down_left()\n",
    "\n",
    "        reward = -1\n",
    "        # Cliff: 리워드를 크게 감소\n",
    "        if self.x == 3 and (self.y >= 1 and self.y <= 10):\n",
    "            reward = -999\n",
    "\n",
    "        done = self.is_done()\n",
    "        return (self.x, self.y), reward, done\n",
    "\n",
    "    # 오른쪽으로 이동\n",
    "    def move_right(self):\n",
    "        self.y += 1\n",
    "        if self.y > 11:\n",
    "            self.y = 11\n",
    "\n",
    "    # 왼쪽으로 이동\n",
    "    def move_left(self):\n",
    "        self.y -= 1\n",
    "        if self.y < 0:\n",
    "            self.y = 0\n",
    "\n",
    "    # 위로 이동\n",
    "    def move_up(self):\n",
    "        self.x -= 1\n",
    "        if self.x < 0:\n",
    "            self.x = 0\n",
    "\n",
    "    # 아래로 이동\n",
    "    def move_down(self):\n",
    "        self.x += 1\n",
    "        if self.x > 3:\n",
    "            self.x = 3\n",
    "\n",
    "    # 오른쪽 위로 이동 (대각선)\n",
    "    def move_up_right(self):\n",
    "        self.x -= 1\n",
    "        self.y += 1\n",
    "        if self.x < 0:\n",
    "            self.x = 0\n",
    "        if self.y > 11:\n",
    "            self.y = 11\n",
    "\n",
    "    # 왼쪽 위로 이동 (대각선)\n",
    "    def move_up_left(self):\n",
    "        self.x -= 1\n",
    "        self.y -= 1\n",
    "        if self.x < 0:\n",
    "            self.x = 0\n",
    "        if self.y < 0:\n",
    "            self.y = 0\n",
    "\n",
    "    # 오른쪽 아래로 이동 (대각선)\n",
    "    def move_down_right(self):\n",
    "        self.x += 1\n",
    "        self.y += 1\n",
    "        if self.x > 3:\n",
    "            self.x = 3\n",
    "        if self.y > 11:\n",
    "            self.y = 11\n",
    "\n",
    "    # 왼쪽 아래로 이동 (대각선)\n",
    "    def move_down_left(self):\n",
    "        self.x += 1\n",
    "        self.y -= 1\n",
    "        if self.x > 3:\n",
    "            self.x = 3\n",
    "        if self.y < 0:\n",
    "            self.y = 0\n",
    "\n",
    "    # 목표 지점에서 에피소드 종료\n",
    "    def is_done(self):\n",
    "        if self.x == 3 and self.y == 11:  # 목표 지점\n",
    "            return True\n",
    "        else:\n",
    "            return False\n",
    "\n",
    "    def get_state(self):\n",
    "        return (self.x, self.y)\n",
    "\n",
    "    def reset(self):\n",
    "        self.x = 3\n",
    "        self.y = 0\n",
    "        return (self.x, self.y)\n",
    "\n",
    "\n"
   ]
  },
  {
   "cell_type": "code",
   "execution_count": 8,
   "metadata": {
    "executionInfo": {
     "elapsed": 3,
     "status": "ok",
     "timestamp": 1733373364936,
     "user": {
      "displayName": "이정우",
      "userId": "08387673163810862239"
     },
     "user_tz": -540
    },
    "id": "wJWd0XP9SWyA"
   },
   "outputs": [],
   "source": [
    "class AgentQlearning():\n",
    "  def __init__(self):\n",
    "    self.q_table = np.zeros((4,12,4)) # x size, y size, number of action\n",
    "    self.eps = 0.9\n",
    "    self.alpha = 0.1 # step sisze\n",
    "    self.gamma = 1 # discount factor\n",
    "\n",
    "  def select_action(self, s):\n",
    "    x, y = s\n",
    "    prob =  random.random()\n",
    "\n",
    "    if prob < self.eps: # exploration\n",
    "      action = random.randint(0,3)\n",
    "    else: #  exploitation\n",
    "      action_val = self.q_table[x,y,:]\n",
    "      action = np.argmax(action_val)\n",
    "    return action\n",
    "\n",
    "  ## fill your code\n",
    "  def update_table(self, transition):\n",
    "    s,a,r,s_next = transition\n",
    "    x,y = s\n",
    "    x_next, y_next = s_next\n",
    "    a_next = self.select_action(s_next)\n",
    "    # Q-learning\n",
    "    # hint: np.max\n",
    "    self.q_table[x,y,a] = self.q_table[x,y,a] + self.alpha * (r + self.gamma * np.max(self.q_table[x_next,y_next,:]) - self.q_table[x,y,a])\n",
    "  ##\n",
    "\n",
    "  def anneal_eps(self):\n",
    "    self.eps -= 0.001\n",
    "    self.eps = max(self.eps, 0.1)\n",
    "\n",
    "  def show_table(self):\n",
    "    q_list = self.q_table.tolist()\n",
    "    best_qvalue = np.zeros((4,12))\n",
    "    best_action = np.zeros((4,12))\n",
    "    for row_idx in range(len(q_list)):\n",
    "      row = q_list[row_idx]\n",
    "      for col_idx in range(len(row)):\n",
    "        col = row[col_idx]\n",
    "        qvalue = np.max(col)\n",
    "        action = np.argmax(col)\n",
    "        best_qvalue[row_idx, col_idx] = qvalue\n",
    "        best_action[row_idx, col_idx] = action\n",
    "    return best_qvalue, best_action\n",
    "\n"
   ]
  },
  {
   "cell_type": "code",
   "execution_count": 9,
   "metadata": {
    "executionInfo": {
     "elapsed": 3,
     "status": "ok",
     "timestamp": 1733373364936,
     "user": {
      "displayName": "이정우",
      "userId": "08387673163810862239"
     },
     "user_tz": -540
    },
    "id": "iHSAokm_YIzo"
   },
   "outputs": [],
   "source": [
    "def main():\n",
    "  env = GridWorld()\n",
    "  agent = AgentQlearning()\n",
    "\n",
    "  for n_epi in range(20000):\n",
    "    done = False\n",
    "\n",
    "    s = env.reset()\n",
    "    while not done:\n",
    "      a = agent.select_action(s)\n",
    "      s_next, r, done = env.step(a)\n",
    "      agent.update_table((s,a,r,s_next))\n",
    "      s = s_next\n",
    "    agent.anneal_eps()\n",
    "\n",
    "  # result\n",
    "  opt_q, opt_policy = agent.show_table()\n",
    "\n",
    "  # Display the opt_q\n",
    "  fig, ax = plt.subplots(figsize=(12, 8))\n",
    "  plt.imshow(opt_policy, cmap='cool', interpolation='nearest')\n",
    "  for i in range(4):\n",
    "    for j in range(12):\n",
    "        tempstr = \"{:.2f}\".format(opt_q[i][j])\n",
    "        text = ax.text(j, i, tempstr, ha=\"center\", va=\"center\", color=\"k\")\n",
    "  plt.show()\n",
    "\n",
    "  # Display the opt_policy\n",
    "  fig, ax = plt.subplots(figsize=(12, 8))\n",
    "  plt.imshow(opt_policy, cmap='cool', interpolation='nearest')\n",
    "  for i in range(4):\n",
    "    for j in range(12):\n",
    "      if opt_policy[i][j] == 0:\n",
    "        tempstr = \"→\"  # 오른쪽\n",
    "      elif opt_policy[i][j] == 1:\n",
    "        tempstr = \"←\"  # 왼쪽\n",
    "      elif opt_policy[i][j] == 2:\n",
    "        tempstr = \"↑\"  # 위쪽\n",
    "      elif opt_policy[i][j] == 3:\n",
    "        tempstr = \"↓\"  # 아래쪽\n",
    "      elif opt_policy[i][j] == 4:\n",
    "        tempstr = \"↗\"  # 오른쪽 위 대각선\n",
    "      elif opt_policy[i][j] == 5:\n",
    "        tempstr = \"↖\"  # 왼쪽 위 대각선\n",
    "      elif opt_policy[i][j] == 6:\n",
    "        tempstr = \"↘\"  # 오른쪽 아래 대각선\n",
    "      elif opt_policy[i][j] == 7:\n",
    "        tempstr = \"↙\"  # 왼쪽 아래 대각선\n",
    "      text = ax.text(j, i, tempstr, ha=\"center\", va=\"center\", color=\"k\")\n",
    "  plt.show()\n"
   ]
  },
  {
   "cell_type": "code",
   "execution_count": 10,
   "metadata": {
    "colab": {
     "base_uri": "https://localhost:8080/",
     "height": 853
    },
    "executionInfo": {
     "elapsed": 8224,
     "status": "ok",
     "timestamp": 1733373373158,
     "user": {
      "displayName": "이정우",
      "userId": "08387673163810862239"
     },
     "user_tz": -540
    },
    "id": "-0Lxdo06Y0VL",
    "outputId": "89aeb135-dfa1-4830-9707-e4c243268095"
   },
   "outputs": [
    {
     "data": {
      "image/png": "[encoded data removed]",
      "text/plain": [
       "<Figure size 1200x800 with 1 Axes>"
      ]
     },
     "metadata": {},
     "output_type": "display_data"
    },
    {
     "data": {
      "image/png": "[encoded data removed]",
      "text/plain": [
       "<Figure size 1200x800 with 1 Axes>"
      ]
     },
     "metadata": {},
     "output_type": "display_data"
    }
   ],
   "source": [
    "main()"
   ]
  }
 ],
 "metadata": {
  "colab": {
   "provenance": [
    {
     "file_id": "1GuKeN07itPoagNAVcsBiEi4hVdSynKa6",
     "timestamp": 1733235845939
    }
   ]
  },
  "kernelspec": {
   "display_name": "python311",
   "language": "python",
   "name": "python3"
  },
  "language_info": {
   "codemirror_mode": {
    "name": "ipython",
    "version": 3
   },
   "file_extension": ".py",
   "mimetype": "text/x-python",
   "name": "python",
   "nbconvert_exporter": "python",
   "pygments_lexer": "ipython3",
   "version": "3.11.8"
  }
 },
 "nbformat": 4,
 "nbformat_minor": 0
}
